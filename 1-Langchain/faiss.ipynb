{
 "cells": [
  {
   "cell_type": "markdown",
   "metadata": {},
   "source": [
    "## FAISS \n",
    "Facebook AI Similarity Search (Faiss) is a library for efficient similarity search and clustering of dense vectors. It contains algorithms that search in sets of vectors of any size, up to ones that possibly do not fit in RAM. It also contains supporting code for evaluation and parameter tuning."
   ]
  },
  {
   "cell_type": "code",
   "execution_count": 5,
   "metadata": {},
   "outputs": [],
   "source": [
    "from langchain_community.document_loaders import TextLoader\n",
    "from langchain_community.vectorstores import FAISS\n",
    "from langchain_text_splitters import CharacterTextSplitter\n",
    "from langchain_community.embeddings import OllamaEmbeddings\n",
    "\n",
    "loader= TextLoader(\"speech.txt\")\n",
    "documents=loader.load()\n",
    "text_splitter=CharacterTextSplitter(chunk_size=1000,chunk_overlap=30)\n",
    "docs=text_splitter.split_documents(documents)\n",
    "\n"
   ]
  },
  {
   "cell_type": "code",
   "execution_count": 6,
   "metadata": {},
   "outputs": [
    {
     "data": {
      "text/plain": [
       "[Document(metadata={'source': 'speech.txt'}, page_content='Good morning everyone,\\n\\nToday, we are stepping into the future of AI-powered applications with LangChain. LangChain is an innovative framework that enables seamless integration of Large Language Models (LLMs) into applications, allowing developers to build intelligent, context-aware solutions. With its modular approach, LangChain simplifies complex AI workflows by offering components like data loaders, memory, chains, agents, and tools. This makes it a game-changer for industries looking to harness the power of AI-driven decision-making.'),\n",
       " Document(metadata={'source': 'speech.txt'}, page_content=\"By leveraging LangChainâ€™s ecosystem, developers can create applications that retrieve and process structured and unstructured data, generate insightful responses, and automate decision-making processes. Whether it's chatbots, document analysis, or AI-driven customer support, LangChain empowers us to build smarter, more adaptive applications. As AI adoption continues to rise, mastering LangChain will be a crucial step in developing the next generation of intelligent solutions.\\n\\nThank you!\")]"
      ]
     },
     "execution_count": 6,
     "metadata": {},
     "output_type": "execute_result"
    }
   ],
   "source": [
    "docs"
   ]
  },
  {
   "cell_type": "code",
   "execution_count": 13,
   "metadata": {},
   "outputs": [
    {
     "data": {
      "text/plain": [
       "<langchain_community.vectorstores.faiss.FAISS at 0x2544af6bbe0>"
      ]
     },
     "execution_count": 13,
     "metadata": {},
     "output_type": "execute_result"
    }
   ],
   "source": [
    "embeddings=OllamaEmbeddings(model=\"nomic-embed-text\")\n",
    "db=FAISS.from_documents(docs,embeddings)\n",
    "db"
   ]
  },
  {
   "cell_type": "code",
   "execution_count": 15,
   "metadata": {},
   "outputs": [
    {
     "data": {
      "text/plain": [
       "\"By leveraging LangChainâ€™s ecosystem, developers can create applications that retrieve and process structured and unstructured data, generate insightful responses, and automate decision-making processes. Whether it's chatbots, document analysis, or AI-driven customer support, LangChain empowers us to build smarter, more adaptive applications. As AI adoption continues to rise, mastering LangChain will be a crucial step in developing the next generation of intelligent solutions.\\n\\nThank you!\""
      ]
     },
     "execution_count": 15,
     "metadata": {},
     "output_type": "execute_result"
    }
   ],
   "source": [
    "## querying\n",
    "query=\"What is the main theme of the document?\"\n",
    "docs=db.similarity_search(query)\n",
    "docs[0].page_content"
   ]
  },
  {
   "cell_type": "markdown",
   "metadata": {},
   "source": [
    "## Retriever\n",
    "Interface between vector store db and LLMs"
   ]
  },
  {
   "cell_type": "code",
   "execution_count": 17,
   "metadata": {},
   "outputs": [],
   "source": [
    "retriever=db.as_retriever()\n",
    "docs=retriever.invoke(query)"
   ]
  },
  {
   "cell_type": "code",
   "execution_count": 18,
   "metadata": {},
   "outputs": [
    {
     "data": {
      "text/plain": [
       "\"By leveraging LangChainâ€™s ecosystem, developers can create applications that retrieve and process structured and unstructured data, generate insightful responses, and automate decision-making processes. Whether it's chatbots, document analysis, or AI-driven customer support, LangChain empowers us to build smarter, more adaptive applications. As AI adoption continues to rise, mastering LangChain will be a crucial step in developing the next generation of intelligent solutions.\\n\\nThank you!\""
      ]
     },
     "execution_count": 18,
     "metadata": {},
     "output_type": "execute_result"
    }
   ],
   "source": [
    "docs[0].page_content"
   ]
  },
  {
   "cell_type": "markdown",
   "metadata": {},
   "source": [
    "## Similarity Search with Score\n",
    "Allows you to return not only documents but a distance score of the query to them. \n",
    "The returned score is L2 , therefore lower score is better"
   ]
  },
  {
   "cell_type": "code",
   "execution_count": 19,
   "metadata": {},
   "outputs": [
    {
     "data": {
      "text/plain": [
       "[(Document(id='54632c98-1021-4280-86f3-c5eca086f751', metadata={'source': 'speech.txt'}, page_content=\"By leveraging LangChainâ€™s ecosystem, developers can create applications that retrieve and process structured and unstructured data, generate insightful responses, and automate decision-making processes. Whether it's chatbots, document analysis, or AI-driven customer support, LangChain empowers us to build smarter, more adaptive applications. As AI adoption continues to rise, mastering LangChain will be a crucial step in developing the next generation of intelligent solutions.\\n\\nThank you!\"),\n",
       "  np.float32(500.85352)),\n",
       " (Document(id='a27a6b8f-dedb-4ff0-aed5-89cd545e493d', metadata={'source': 'speech.txt'}, page_content='Good morning everyone,\\n\\nToday, we are stepping into the future of AI-powered applications with LangChain. LangChain is an innovative framework that enables seamless integration of Large Language Models (LLMs) into applications, allowing developers to build intelligent, context-aware solutions. With its modular approach, LangChain simplifies complex AI workflows by offering components like data loaders, memory, chains, agents, and tools. This makes it a game-changer for industries looking to harness the power of AI-driven decision-making.'),\n",
       "  np.float32(502.77454))]"
      ]
     },
     "execution_count": 19,
     "metadata": {},
     "output_type": "execute_result"
    }
   ],
   "source": [
    "docs_and_score=db.similarity_search_with_score(query)\n",
    "docs_and_score"
   ]
  },
  {
   "cell_type": "code",
   "execution_count": 20,
   "metadata": {},
   "outputs": [],
   "source": [
    "db.save_local(\"faiss_index\")"
   ]
  }
 ],
 "metadata": {
  "kernelspec": {
   "display_name": "venv",
   "language": "python",
   "name": "python3"
  },
  "language_info": {
   "codemirror_mode": {
    "name": "ipython",
    "version": 3
   },
   "file_extension": ".py",
   "mimetype": "text/x-python",
   "name": "python",
   "nbconvert_exporter": "python",
   "pygments_lexer": "ipython3",
   "version": "3.10.0"
  }
 },
 "nbformat": 4,
 "nbformat_minor": 2
}
