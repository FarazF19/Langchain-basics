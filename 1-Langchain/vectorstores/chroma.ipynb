{
 "cells": [
  {
   "cell_type": "markdown",
   "metadata": {},
   "source": [
    "## Chroma DB\n",
    "Chroma is AI native open source vector database focused on developer productivity."
   ]
  },
  {
   "cell_type": "code",
   "execution_count": null,
   "metadata": {},
   "outputs": [],
   "source": [
    "##Building a sample vector db\n",
    "\n",
    "from langchain_chroma import Chroma\n",
    "from langchain_community.document_loaders import TextLoader\n",
    "from langchain_text_splitters import RecursiveCharacterTextSplitter\n",
    "from langchain_community.embeddings import OllamaEmbeddings"
   ]
  },
  {
   "cell_type": "code",
   "execution_count": 2,
   "metadata": {},
   "outputs": [
    {
     "data": {
      "text/plain": [
       "[Document(metadata={'source': 'speech.txt'}, page_content=\"Good morning everyone,\\n\\nToday, we are stepping into the future of AI-powered applications with LangChain. LangChain is an innovative framework that enables seamless integration of Large Language Models (LLMs) into applications, allowing developers to build intelligent, context-aware solutions. With its modular approach, LangChain simplifies complex AI workflows by offering components like data loaders, memory, chains, agents, and tools. This makes it a game-changer for industries looking to harness the power of AI-driven decision-making.\\n\\nBy leveraging LangChainâ€™s ecosystem, developers can create applications that retrieve and process structured and unstructured data, generate insightful responses, and automate decision-making processes. Whether it's chatbots, document analysis, or AI-driven customer support, LangChain empowers us to build smarter, more adaptive applications. As AI adoption continues to rise, mastering LangChain will be a crucial step in developing the next generation of intelligent solutions.\\n\\nThank you!\\n\\n\")]"
      ]
     },
     "execution_count": 2,
     "metadata": {},
     "output_type": "execute_result"
    }
   ],
   "source": [
    "loader= TextLoader(\"speech.txt\")\n",
    "data=loader.load()\n",
    "data"
   ]
  },
  {
   "cell_type": "code",
   "execution_count": 3,
   "metadata": {},
   "outputs": [],
   "source": [
    "text_splitter=RecursiveCharacterTextSplitter(chunk_size=500,chunk_overlap=0)\n",
    "splitter=text_splitter.split_documents(data)"
   ]
  },
  {
   "cell_type": "code",
   "execution_count": 4,
   "metadata": {},
   "outputs": [
    {
     "name": "stderr",
     "output_type": "stream",
     "text": [
      "C:\\Users\\faroo\\AppData\\Local\\Temp\\ipykernel_14000\\1885018809.py:1: LangChainDeprecationWarning: The class `OllamaEmbeddings` was deprecated in LangChain 0.3.1 and will be removed in 1.0.0. An updated version of the class exists in the :class:`~langchain-ollama package and should be used instead. To use it run `pip install -U :class:`~langchain-ollama` and import as `from :class:`~langchain_ollama import OllamaEmbeddings``.\n",
      "  embeddings=OllamaEmbeddings(model=\"nomic-embed-text\")\n"
     ]
    },
    {
     "data": {
      "text/plain": [
       "<langchain_chroma.vectorstores.Chroma at 0x2c831d096f0>"
      ]
     },
     "execution_count": 4,
     "metadata": {},
     "output_type": "execute_result"
    }
   ],
   "source": [
    "embeddings=OllamaEmbeddings(model=\"nomic-embed-text\")\n",
    "vectordb=Chroma.from_documents(documents=splitter,embedding=embeddings)\n",
    "vectordb\n"
   ]
  },
  {
   "cell_type": "code",
   "execution_count": 5,
   "metadata": {},
   "outputs": [
    {
     "data": {
      "text/plain": [
       "\"By leveraging LangChainâ€™s ecosystem, developers can create applications that retrieve and process structured and unstructured data, generate insightful responses, and automate decision-making processes. Whether it's chatbots, document analysis, or AI-driven customer support, LangChain empowers us to build smarter, more adaptive applications. As AI adoption continues to rise, mastering LangChain will be a crucial step in developing the next generation of intelligent solutions.\\n\\nThank you!\""
      ]
     },
     "execution_count": 5,
     "metadata": {},
     "output_type": "execute_result"
    }
   ],
   "source": [
    "## querying\n",
    "query=\"What is the main idea of the speech?\"\n",
    "docs=vectordb.similarity_search(query)\n",
    "docs[0].page_content"
   ]
  },
  {
   "cell_type": "code",
   "execution_count": null,
   "metadata": {},
   "outputs": [],
   "source": [
    "## Saving vector db \n",
    "vectordb=Chroma.from_documents(documents=splitter,embedding=embeddings,persist_directory=\"./chroma\")"
   ]
  }
 ],
 "metadata": {
  "kernelspec": {
   "display_name": "venv",
   "language": "python",
   "name": "python3"
  },
  "language_info": {
   "codemirror_mode": {
    "name": "ipython",
    "version": 3
   },
   "file_extension": ".py",
   "mimetype": "text/x-python",
   "name": "python",
   "nbconvert_exporter": "python",
   "pygments_lexer": "ipython3",
   "version": "3.10.0"
  }
 },
 "nbformat": 4,
 "nbformat_minor": 2
}
